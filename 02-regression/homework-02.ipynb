{
 "cells": [
  {
   "cell_type": "code",
   "execution_count": 1,
   "id": "cfa310a8-61f0-4c33-92d9-7c331ff04222",
   "metadata": {},
   "outputs": [],
   "source": [
    "#importing necessary libraries\n",
    "import pandas as pd\n",
    "import numpy as np\n",
    "import seaborn as sns\n",
    "import matplotlib.pyplot as plt"
   ]
  },
  {
   "cell_type": "code",
   "execution_count": 2,
   "id": "5872a1a7-7cd3-4287-9610-724a1552f9d9",
   "metadata": {
    "scrolled": true
   },
   "outputs": [
    {
     "data": {
      "text/html": [
       "<div>\n",
       "<style scoped>\n",
       "    .dataframe tbody tr th:only-of-type {\n",
       "        vertical-align: middle;\n",
       "    }\n",
       "\n",
       "    .dataframe tbody tr th {\n",
       "        vertical-align: top;\n",
       "    }\n",
       "\n",
       "    .dataframe thead th {\n",
       "        text-align: right;\n",
       "    }\n",
       "</style>\n",
       "<table border=\"1\" class=\"dataframe\">\n",
       "  <thead>\n",
       "    <tr style=\"text-align: right;\">\n",
       "      <th></th>\n",
       "      <th>engine_displacement</th>\n",
       "      <th>num_cylinders</th>\n",
       "      <th>horsepower</th>\n",
       "      <th>vehicle_weight</th>\n",
       "      <th>acceleration</th>\n",
       "      <th>model_year</th>\n",
       "      <th>origin</th>\n",
       "      <th>fuel_type</th>\n",
       "      <th>drivetrain</th>\n",
       "      <th>num_doors</th>\n",
       "      <th>fuel_efficiency_mpg</th>\n",
       "    </tr>\n",
       "  </thead>\n",
       "  <tbody>\n",
       "    <tr>\n",
       "      <th>0</th>\n",
       "      <td>170</td>\n",
       "      <td>3.0</td>\n",
       "      <td>159.0</td>\n",
       "      <td>3413.433759</td>\n",
       "      <td>17.7</td>\n",
       "      <td>2003</td>\n",
       "      <td>Europe</td>\n",
       "      <td>Gasoline</td>\n",
       "      <td>All-wheel drive</td>\n",
       "      <td>0.0</td>\n",
       "      <td>13.231729</td>\n",
       "    </tr>\n",
       "    <tr>\n",
       "      <th>1</th>\n",
       "      <td>130</td>\n",
       "      <td>5.0</td>\n",
       "      <td>97.0</td>\n",
       "      <td>3149.664934</td>\n",
       "      <td>17.8</td>\n",
       "      <td>2007</td>\n",
       "      <td>USA</td>\n",
       "      <td>Gasoline</td>\n",
       "      <td>Front-wheel drive</td>\n",
       "      <td>0.0</td>\n",
       "      <td>13.688217</td>\n",
       "    </tr>\n",
       "    <tr>\n",
       "      <th>2</th>\n",
       "      <td>170</td>\n",
       "      <td>NaN</td>\n",
       "      <td>78.0</td>\n",
       "      <td>3079.038997</td>\n",
       "      <td>15.1</td>\n",
       "      <td>2018</td>\n",
       "      <td>Europe</td>\n",
       "      <td>Gasoline</td>\n",
       "      <td>Front-wheel drive</td>\n",
       "      <td>0.0</td>\n",
       "      <td>14.246341</td>\n",
       "    </tr>\n",
       "    <tr>\n",
       "      <th>3</th>\n",
       "      <td>220</td>\n",
       "      <td>4.0</td>\n",
       "      <td>NaN</td>\n",
       "      <td>2542.392402</td>\n",
       "      <td>20.2</td>\n",
       "      <td>2009</td>\n",
       "      <td>USA</td>\n",
       "      <td>Diesel</td>\n",
       "      <td>All-wheel drive</td>\n",
       "      <td>2.0</td>\n",
       "      <td>16.912736</td>\n",
       "    </tr>\n",
       "    <tr>\n",
       "      <th>4</th>\n",
       "      <td>210</td>\n",
       "      <td>1.0</td>\n",
       "      <td>140.0</td>\n",
       "      <td>3460.870990</td>\n",
       "      <td>14.4</td>\n",
       "      <td>2009</td>\n",
       "      <td>Europe</td>\n",
       "      <td>Gasoline</td>\n",
       "      <td>All-wheel drive</td>\n",
       "      <td>2.0</td>\n",
       "      <td>12.488369</td>\n",
       "    </tr>\n",
       "  </tbody>\n",
       "</table>\n",
       "</div>"
      ],
      "text/plain": [
       "   engine_displacement  num_cylinders  horsepower  vehicle_weight  \\\n",
       "0                  170            3.0       159.0     3413.433759   \n",
       "1                  130            5.0        97.0     3149.664934   \n",
       "2                  170            NaN        78.0     3079.038997   \n",
       "3                  220            4.0         NaN     2542.392402   \n",
       "4                  210            1.0       140.0     3460.870990   \n",
       "\n",
       "   acceleration  model_year  origin fuel_type         drivetrain  num_doors  \\\n",
       "0          17.7        2003  Europe  Gasoline    All-wheel drive        0.0   \n",
       "1          17.8        2007     USA  Gasoline  Front-wheel drive        0.0   \n",
       "2          15.1        2018  Europe  Gasoline  Front-wheel drive        0.0   \n",
       "3          20.2        2009     USA    Diesel    All-wheel drive        2.0   \n",
       "4          14.4        2009  Europe  Gasoline    All-wheel drive        2.0   \n",
       "\n",
       "   fuel_efficiency_mpg  \n",
       "0            13.231729  \n",
       "1            13.688217  \n",
       "2            14.246341  \n",
       "3            16.912736  \n",
       "4            12.488369  "
      ]
     },
     "execution_count": 2,
     "metadata": {},
     "output_type": "execute_result"
    }
   ],
   "source": [
    "#reading data and storing as DataFrame\n",
    "data= pd.read_csv('car_fuel_efficiency.csv')\n",
    "data.head()"
   ]
  },
  {
   "cell_type": "markdown",
   "id": "811a7e44-637c-4703-9372-9319e9577133",
   "metadata": {},
   "source": [
    "#### Preparing the dataset"
   ]
  },
  {
   "cell_type": "code",
   "execution_count": 4,
   "id": "44feceeb-b7a7-468a-a66e-948e69a0801d",
   "metadata": {},
   "outputs": [
    {
     "data": {
      "text/html": [
       "<div>\n",
       "<style scoped>\n",
       "    .dataframe tbody tr th:only-of-type {\n",
       "        vertical-align: middle;\n",
       "    }\n",
       "\n",
       "    .dataframe tbody tr th {\n",
       "        vertical-align: top;\n",
       "    }\n",
       "\n",
       "    .dataframe thead th {\n",
       "        text-align: right;\n",
       "    }\n",
       "</style>\n",
       "<table border=\"1\" class=\"dataframe\">\n",
       "  <thead>\n",
       "    <tr style=\"text-align: right;\">\n",
       "      <th></th>\n",
       "      <th>engine_displacement</th>\n",
       "      <th>horsepower</th>\n",
       "      <th>vehicle_weight</th>\n",
       "      <th>model_year</th>\n",
       "      <th>fuel_efficiency_mpg</th>\n",
       "    </tr>\n",
       "  </thead>\n",
       "  <tbody>\n",
       "    <tr>\n",
       "      <th>0</th>\n",
       "      <td>170</td>\n",
       "      <td>159.0</td>\n",
       "      <td>3413.433759</td>\n",
       "      <td>2003</td>\n",
       "      <td>13.231729</td>\n",
       "    </tr>\n",
       "    <tr>\n",
       "      <th>1</th>\n",
       "      <td>130</td>\n",
       "      <td>97.0</td>\n",
       "      <td>3149.664934</td>\n",
       "      <td>2007</td>\n",
       "      <td>13.688217</td>\n",
       "    </tr>\n",
       "    <tr>\n",
       "      <th>2</th>\n",
       "      <td>170</td>\n",
       "      <td>78.0</td>\n",
       "      <td>3079.038997</td>\n",
       "      <td>2018</td>\n",
       "      <td>14.246341</td>\n",
       "    </tr>\n",
       "    <tr>\n",
       "      <th>3</th>\n",
       "      <td>220</td>\n",
       "      <td>NaN</td>\n",
       "      <td>2542.392402</td>\n",
       "      <td>2009</td>\n",
       "      <td>16.912736</td>\n",
       "    </tr>\n",
       "    <tr>\n",
       "      <th>4</th>\n",
       "      <td>210</td>\n",
       "      <td>140.0</td>\n",
       "      <td>3460.870990</td>\n",
       "      <td>2009</td>\n",
       "      <td>12.488369</td>\n",
       "    </tr>\n",
       "  </tbody>\n",
       "</table>\n",
       "</div>"
      ],
      "text/plain": [
       "   engine_displacement  horsepower  vehicle_weight  model_year  \\\n",
       "0                  170       159.0     3413.433759        2003   \n",
       "1                  130        97.0     3149.664934        2007   \n",
       "2                  170        78.0     3079.038997        2018   \n",
       "3                  220         NaN     2542.392402        2009   \n",
       "4                  210       140.0     3460.870990        2009   \n",
       "\n",
       "   fuel_efficiency_mpg  \n",
       "0            13.231729  \n",
       "1            13.688217  \n",
       "2            14.246341  \n",
       "3            16.912736  \n",
       "4            12.488369  "
      ]
     },
     "execution_count": 4,
     "metadata": {},
     "output_type": "execute_result"
    }
   ],
   "source": [
    "#preparing dataset\n",
    "df= data[['engine_displacement', 'horsepower', 'vehicle_weight', 'model_year', 'fuel_efficiency_mpg']]\n",
    "df.head()"
   ]
  },
  {
   "cell_type": "markdown",
   "id": "f5ae0a61-77a6-4a15-9ada-9099ae3af164",
   "metadata": {},
   "source": [
    "#### EDA"
   ]
  },
  {
   "cell_type": "markdown",
   "id": "d1e14c34-ee4e-4a10-a182-792f701921e6",
   "metadata": {},
   "source": [
    "##### Look at the fuel_efficiency_mpg variable. Does it have a long tail?"
   ]
  },
  {
   "cell_type": "code",
   "execution_count": 7,
   "id": "c00bb5e6-8457-44ef-a335-c49d5cbe45d4",
   "metadata": {},
   "outputs": [
    {
     "data": {
      "image/png": "[encoded data removed]",
      "text/plain": [
       "<Figure size 640x480 with 1 Axes>"
      ]
     },
     "metadata": {},
     "output_type": "display_data"
    }
   ],
   "source": [
    "#plotting histogram for variable fuel_efficiency_mpg\n",
    "sns.histplot(data= df, x= 'fuel_efficiency_mpg')\n",
    "plt.show()"
   ]
  },
  {
   "cell_type": "markdown",
   "id": "13a12599-7af3-4cc6-a1cb-2b4796d2957e",
   "metadata": {},
   "source": [
    "##### No, the distribution is normal, It does not have a long tail."
   ]
  },
  {
   "cell_type": "markdown",
   "id": "4adbb7fc-3d71-410f-bf7c-f0a0a1bb6a02",
   "metadata": {},
   "source": [
    "#### Question 1"
   ]
  },
  {
   "cell_type": "markdown",
   "id": "dd18d6e0-a581-447a-b609-842a812ffbd2",
   "metadata": {},
   "source": [
    "##### There's one column with missing values. What is it?"
   ]
  },
  {
   "cell_type": "code",
   "execution_count": 11,
   "id": "ad9939cd-8b73-4ef4-905b-e975a4fc3634",
   "metadata": {},
   "outputs": [
    {
     "data": {
      "text/plain": [
       "engine_displacement      0\n",
       "horsepower             708\n",
       "vehicle_weight           0\n",
       "model_year               0\n",
       "fuel_efficiency_mpg      0\n",
       "dtype: int64"
      ]
     },
     "execution_count": 11,
     "metadata": {},
     "output_type": "execute_result"
    }
   ],
   "source": [
    "#total missing values in all the columns of the dataset\n",
    "df.isna().sum()"
   ]
  },
  {
   "cell_type": "markdown",
   "id": "b31b3c4d-8ef4-423b-92e6-455c221464d9",
   "metadata": {},
   "source": [
    "##### Answer 1: horsepower column has 708 missing values."
   ]
  },
  {
   "cell_type": "markdown",
   "id": "c8a88342-89ba-4343-9025-de55f9ec578f",
   "metadata": {},
   "source": [
    "#### Question 2"
   ]
  },
  {
   "cell_type": "markdown",
   "id": "d49dfe29-f15c-47d8-95a1-a1e2af6cad35",
   "metadata": {},
   "source": [
    "##### What's the median (50% percentile) for variable 'horsepower'?"
   ]
  },
  {
   "cell_type": "code",
   "execution_count": 15,
   "id": "ce2c0fd7-77b0-4f07-9399-3729366808a0",
   "metadata": {},
   "outputs": [
    {
     "name": "stdout",
     "output_type": "stream",
     "text": [
      "149.0\n"
     ]
    }
   ],
   "source": [
    "#calculating median for variable 'horsepower'\n",
    "horsepower_median= df['horsepower'].median()\n",
    "print(horsepower_median)"
   ]
  },
  {
   "cell_type": "markdown",
   "id": "592fdfee-d25d-4724-afb3-71cd753534ed",
   "metadata": {},
   "source": [
    "##### Answer 2: The median of horsepower variable is 149."
   ]
  },
  {
   "cell_type": "markdown",
   "id": "bcf507c5-4933-4a91-8cf0-264609bfed70",
   "metadata": {},
   "source": [
    "#### Prepare and split the dataset"
   ]
  },
  {
   "cell_type": "markdown",
   "id": "55a90a85-24cf-4ea9-b095-3e05a95615dd",
   "metadata": {},
   "source": [
    "##### Shuffle the dataset (the filtered one you created above), use seed 42."
   ]
  },
  {
   "cell_type": "code",
   "execution_count": 19,
   "id": "fc3e481f-cfb0-4bdb-a497-756ccef85b8e",
   "metadata": {},
   "outputs": [
    {
     "data": {
      "text/plain": [
       "9704"
      ]
     },
     "execution_count": 19,
     "metadata": {},
     "output_type": "execute_result"
    }
   ],
   "source": [
    "#total number of rows in the dataset\n",
    "n= len(df)\n",
    "n"
   ]
  },
  {
   "cell_type": "code",
   "execution_count": 20,
   "id": "35492be5-9e24-42b9-88db-5426051360c5",
   "metadata": {},
   "outputs": [],
   "source": [
    "#shuffling the dataset using seed= 42\n",
    "idx= np.arange(n)\n",
    "np.random.seed(42)\n",
    "np.random.shuffle(idx)"
   ]
  },
  {
   "cell_type": "markdown",
   "id": "7d93572b-d731-4c65-8066-ebed1cb92c06",
   "metadata": {},
   "source": [
    "##### Split your data in train/val/test sets, with 60%/20%/20% distribution."
   ]
  },
  {
   "cell_type": "code",
   "execution_count": 22,
   "id": "8e1a2aa5-7823-4aed-bf62-ca7d7f889702",
   "metadata": {},
   "outputs": [],
   "source": [
    "#Splitting the number of rows for train, validation and test sets\n",
    "n_val = int(n * 0.2)\n",
    "n_test = int(n * 0.2)\n",
    "n_train = n - n_val - n_test"
   ]
  },
  {
   "cell_type": "code",
   "execution_count": 23,
   "id": "c601f39e-0c24-4ce0-a1a5-e381e1a2d212",
   "metadata": {},
   "outputs": [],
   "source": [
    "#Splitting the dataset into train, validation and test sets\n",
    "df_train = df.iloc[idx[:n_train]]\n",
    "df_val = df.iloc[idx[n_train:n_train+n_val]]\n",
    "df_test = df.iloc[idx[n_train+n_val:]]"
   ]
  },
  {
   "cell_type": "code",
   "execution_count": 24,
   "id": "22dda67b-4edc-424c-8940-0d577b3ebde0",
   "metadata": {},
   "outputs": [],
   "source": [
    "#dropping the index\n",
    "df_train = df_train.reset_index(drop=True)\n",
    "df_val = df_val.reset_index(drop=True)\n",
    "df_test = df_test.reset_index(drop=True)"
   ]
  },
  {
   "cell_type": "code",
   "execution_count": 25,
   "id": "c668992c-fbfa-48ac-b226-73ce24129f6c",
   "metadata": {},
   "outputs": [],
   "source": [
    "#y-values for train, validation and test sets\n",
    "y_train= df_train.fuel_efficiency_mpg.values\n",
    "y_val= df_val.fuel_efficiency_mpg.values\n",
    "y_test= df_test.fuel_efficiency_mpg.values"
   ]
  },
  {
   "cell_type": "code",
   "execution_count": 26,
   "id": "8c19520c-e4a8-4069-94f9-a2bbc98a8f0c",
   "metadata": {},
   "outputs": [],
   "source": [
    "#removing target variable from the train, validation and test sets\n",
    "del df_train['fuel_efficiency_mpg']\n",
    "del df_val['fuel_efficiency_mpg']\n",
    "del df_test['fuel_efficiency_mpg']"
   ]
  },
  {
   "cell_type": "markdown",
   "id": "dc5ce774-0c3a-4915-93fb-938f030eee86",
   "metadata": {},
   "source": [
    "#### Question 3"
   ]
  },
  {
   "cell_type": "markdown",
   "id": "be92bee5-3de2-4f78-95ce-f826c841fe49",
   "metadata": {},
   "source": [
    "##### Imputing 0 for missing values "
   ]
  },
  {
   "cell_type": "code",
   "execution_count": 29,
   "id": "b9dcc518-9aaf-49a9-9e0c-870dd328e74b",
   "metadata": {},
   "outputs": [],
   "source": [
    "#dealing with missing values from question1 \n",
    "def prepare_X_with_0(df):\n",
    "    df['horsepower']= df['horsepower'].fillna(0)\n",
    "    X= df.values\n",
    "    return X"
   ]
  },
  {
   "cell_type": "code",
   "execution_count": 30,
   "id": "486b6d6f-94ab-4da0-9d82-8a93b09e4f1b",
   "metadata": {},
   "outputs": [],
   "source": [
    "#training linear regression model\n",
    "def train_linear_regression(X, y):\n",
    "    ones = np.ones(X.shape[0])\n",
    "    X = np.column_stack([ones, X])\n",
    "\n",
    "    XTX = X.T.dot(X)\n",
    "    XTX_inv = np.linalg.inv(XTX)\n",
    "    w_full = XTX_inv.dot(X.T).dot(y)\n",
    "    \n",
    "    return w_full[0], w_full[1:]"
   ]
  },
  {
   "cell_type": "code",
   "execution_count": 31,
   "id": "d5303f27-060d-479e-86f4-5329d573b148",
   "metadata": {},
   "outputs": [],
   "source": [
    "#preparing X_train with 0 value for NA\n",
    "X_train_with_0= prepare_X_with_0(df_train)"
   ]
  },
  {
   "cell_type": "code",
   "execution_count": 32,
   "id": "c01bb808-c330-42e3-b4be-969fe4c2c0e8",
   "metadata": {},
   "outputs": [
    {
     "name": "stdout",
     "output_type": "stream",
     "text": [
      "w0:  28.827365476144056 w: [ 9.93613218e-05  3.54221891e-03 -5.01328015e-03  3.42992868e-04]\n"
     ]
    }
   ],
   "source": [
    "#training the model with linear regression\n",
    "w0, w= train_linear_regression(X_train_with_0, y_train)\n",
    "print('w0: ',w0, 'w:', w)"
   ]
  },
  {
   "cell_type": "code",
   "execution_count": 33,
   "id": "a41ef342-5249-4650-955c-eb282e7847c0",
   "metadata": {},
   "outputs": [],
   "source": [
    "#preparing validation set with 0 value for NA\n",
    "X_val= prepare_X_with_0(df_val)"
   ]
  },
  {
   "cell_type": "code",
   "execution_count": 34,
   "id": "77023bec-9094-447a-9169-cdbca4810da5",
   "metadata": {},
   "outputs": [],
   "source": [
    "#predicting values for target variable\n",
    "y_pred= w0 + X_val.dot(w)"
   ]
  },
  {
   "cell_type": "code",
   "execution_count": 35,
   "id": "e24952b6-e079-4982-a99a-7e9aeb20df5b",
   "metadata": {},
   "outputs": [],
   "source": [
    "#calculating root mean squared error\n",
    "def rmse(y, y_pred):\n",
    "    se= (y - y_pred) ** 2\n",
    "    mse= se.mean()\n",
    "    rmse= np.sqrt(mse)\n",
    "\n",
    "    return rmse"
   ]
  },
  {
   "cell_type": "code",
   "execution_count": 36,
   "id": "c4af50f4-dea9-407f-b019-d218eeeff0c8",
   "metadata": {},
   "outputs": [
    {
     "data": {
      "text/plain": [
       "0.52"
      ]
     },
     "execution_count": 36,
     "metadata": {},
     "output_type": "execute_result"
    }
   ],
   "source": [
    "#rounding rmse to 2 decimal places\n",
    "round(rmse(y_val, y_pred),2)"
   ]
  },
  {
   "cell_type": "markdown",
   "id": "20f4c936-f09f-42da-a901-e6020a58f729",
   "metadata": {},
   "source": [
    "##### Imputing mean for missing values"
   ]
  },
  {
   "cell_type": "code",
   "execution_count": 38,
   "id": "ded90c93-038e-4a91-a580-32808adb0761",
   "metadata": {},
   "outputs": [],
   "source": [
    "#imputing missing values with mean\n",
    "def prepare_X_with_mean(df):\n",
    "    horsepower_mean= df['horsepower'].mean()\n",
    "    df['horsepower']= df['horsepower'].fillna(horsepower_mean)\n",
    "    X= df.values\n",
    "    return X"
   ]
  },
  {
   "cell_type": "code",
   "execution_count": 39,
   "id": "717f3beb-dbbd-4f72-8ff2-8b92f65d5b71",
   "metadata": {},
   "outputs": [],
   "source": [
    "#preparing X_train with mean value for NA\n",
    "X_train_with_mean= prepare_X_with_mean(df_train)"
   ]
  },
  {
   "cell_type": "code",
   "execution_count": 40,
   "id": "298ca255-db72-427c-870b-1f2ed93ba8b7",
   "metadata": {},
   "outputs": [
    {
     "name": "stdout",
     "output_type": "stream",
     "text": [
      "w0:  28.827365476144056 w: [ 9.93613218e-05  3.54221891e-03 -5.01328015e-03  3.42992868e-04]\n"
     ]
    }
   ],
   "source": [
    "#training the model with linear regression\n",
    "w0, w= train_linear_regression(X_train_with_mean, y_train)\n",
    "print('w0: ',w0, 'w:', w)"
   ]
  },
  {
   "cell_type": "code",
   "execution_count": 41,
   "id": "aa947fcf-6d42-417c-82e5-945d6692a9ec",
   "metadata": {},
   "outputs": [],
   "source": [
    "#preparing validation set with mean value for NA\n",
    "X_val= prepare_X_with_mean(df_val)\n",
    "#predicting values for target variable\n",
    "y_pred= w0 + X_val.dot(w)"
   ]
  },
  {
   "cell_type": "code",
   "execution_count": 42,
   "id": "2c2f0564-3ac6-4dde-8882-994b95e05f54",
   "metadata": {},
   "outputs": [
    {
     "data": {
      "text/plain": [
       "0.52"
      ]
     },
     "execution_count": 42,
     "metadata": {},
     "output_type": "execute_result"
    }
   ],
   "source": [
    "#calculating root mean squared error\n",
    "round(rmse(y_val, y_pred),2)"
   ]
  },
  {
   "cell_type": "markdown",
   "id": "51560aa7-7896-4bda-9812-ed5a42d80cb0",
   "metadata": {},
   "source": [
    "##### Which option gives better RMSE?"
   ]
  },
  {
   "cell_type": "markdown",
   "id": "7eab68a4-ebeb-4f10-b49c-c7df669b4231",
   "metadata": {},
   "source": [
    "##### Answer 3: Both are equally good"
   ]
  },
  {
   "cell_type": "markdown",
   "id": "2319517b-448b-4765-bd2c-7fa7874ff53e",
   "metadata": {},
   "source": [
    "#### Question 4"
   ]
  },
  {
   "cell_type": "code",
   "execution_count": 46,
   "id": "55bc90f6-c027-417f-9d55-47de0c2eda4d",
   "metadata": {},
   "outputs": [],
   "source": [
    "#Using regularization\n",
    "def train_linear_regression_reg(X, y, r):\n",
    "    ones = np.ones(X.shape[0])\n",
    "    X = np.column_stack([ones, X])\n",
    "\n",
    "    XTX = X.T.dot(X)\n",
    "    XTX = XTX + r * np.eye(XTX.shape[0])\n",
    "\n",
    "    XTX_inv = np.linalg.inv(XTX)\n",
    "    w_full = XTX_inv.dot(X.T).dot(y)\n",
    "    \n",
    "    return w_full[0], w_full[1:]"
   ]
  },
  {
   "cell_type": "code",
   "execution_count": 47,
   "id": "4c178110-a142-4df2-b36b-8cdd8090c3fe",
   "metadata": {},
   "outputs": [
    {
     "name": "stdout",
     "output_type": "stream",
     "text": [
      "r: 0 w0: 28.827365476144056 score: 0.5173782638854011\n",
      "r: 0.01 w0: 24.926838421020392 score: 0.5171115525772979\n",
      "r: 0.1 w0: 11.239661085046578 score: 0.5187525130700571\n",
      "r: 1 w0: 1.7315979412697624 score: 0.5222348802092389\n",
      "r: 5 w0: 0.3638075020731069 score: 0.5228916092823451\n",
      "r: 10 w0: 0.18306246622720368 score: 0.5229812979636552\n",
      "r: 100 w0: 0.01841801730765491 score: 0.5230636233819926\n"
     ]
    }
   ],
   "source": [
    "#using different regularization parameters\n",
    "for r in [0, 0.01, 0.1, 1, 5, 10, 100]:\n",
    "    X_train_with_0= prepare_X_with_0(df_train)\n",
    "    w0, w= train_linear_regression_reg(X_train_with_0, y_train,r=r)\n",
    "    X_val= prepare_X_with_0(df_val)\n",
    "    y_pred= w0 + X_val.dot(w)\n",
    "    score= rmse(y_val, y_pred)\n",
    "    print('r:',r,'w0:', w0, 'score:', score)\n"
   ]
  },
  {
   "cell_type": "markdown",
   "id": "8a4417d1-64ae-454c-9ab0-16a977caa033",
   "metadata": {},
   "source": [
    "##### Which r gives the best RMSE?"
   ]
  },
  {
   "cell_type": "markdown",
   "id": "66ee655a-2468-418e-b85d-d4afcb625dcf",
   "metadata": {},
   "source": [
    "##### Answer 4: r= 0.01 gives best rmse."
   ]
  },
  {
   "cell_type": "markdown",
   "id": "902fec57-2a7e-4016-9742-07179c87ff25",
   "metadata": {},
   "source": [
    "#### Question 5"
   ]
  },
  {
   "cell_type": "code",
   "execution_count": 51,
   "id": "2b1f0e48-ce10-493a-9f8f-b1ca9bb03923",
   "metadata": {},
   "outputs": [
    {
     "name": "stdout",
     "output_type": "stream",
     "text": [
      "seed 0 rmse 0.5206531296282488\n",
      "seed 1 rmse 0.5213388912852449\n",
      "seed 2 rmse 0.5228069974790948\n",
      "seed 3 rmse 0.5159516741126557\n",
      "seed 4 rmse 0.5109129460051677\n",
      "seed 5 rmse 0.528340646010539\n",
      "seed 6 rmse 0.5313910658196378\n",
      "seed 7 rmse 0.5090670387410288\n",
      "seed 8 rmse 0.5147399129519309\n",
      "seed 9 rmse 0.5131865908214442\n"
     ]
    }
   ],
   "source": [
    "#trying different seed values for splitting the data\n",
    "n= len(df)\n",
    "for seed in [0, 1, 2, 3, 4, 5, 6, 7, 8, 9]:\n",
    "    idx= np.arange(n)\n",
    "    np.random.seed(seed)\n",
    "    np.random.shuffle(idx)\n",
    "    n_val = int(n * 0.2)\n",
    "    n_test = int(n * 0.2)\n",
    "    n_train = n - n_val - n_test\n",
    "    df_train = df.iloc[idx[:n_train]]\n",
    "    df_val = df.iloc[idx[n_train:n_train+n_val]]\n",
    "    df_test = df.iloc[idx[n_train+n_val:]]\n",
    "    df_train = df_train.reset_index(drop=True)\n",
    "    df_val = df_val.reset_index(drop=True)\n",
    "    df_test = df_test.reset_index(drop=True)\n",
    "    y_train= df_train.fuel_efficiency_mpg.values\n",
    "    y_val= df_val.fuel_efficiency_mpg.values\n",
    "    y_test= df_test.fuel_efficiency_mpg.values\n",
    "    del df_train['fuel_efficiency_mpg']\n",
    "    del df_val['fuel_efficiency_mpg']\n",
    "    del df_test['fuel_efficiency_mpg']\n",
    "    X_train_with_0= prepare_X_with_0(df_train)\n",
    "    w0, w= train_linear_regression(X_train_with_0, y_train)\n",
    "    X_val= prepare_X_with_0(df_val)\n",
    "    y_pred= w0 + X_val.dot(w)\n",
    "    score=rmse(y_val, y_pred)\n",
    "    print('seed', seed, 'rmse', score)"
   ]
  },
  {
   "cell_type": "code",
   "execution_count": 52,
   "id": "420cc93f-5690-49aa-9abb-f15fe07b868b",
   "metadata": {},
   "outputs": [],
   "source": [
    "list_scores= [ 0.5206531296282488,0.5213388912852449, 0.5228069974790948, 0.5159516741126557, 0.5109129460051677, 0.528340646010539, 0.5313910658196378,\n",
    "              0.5090670387410288,0.5147399129519309, 0.5131865908214442]"
   ]
  },
  {
   "cell_type": "code",
   "execution_count": 53,
   "id": "1eb82307-f32e-4c6c-8ca8-89ae2221d037",
   "metadata": {},
   "outputs": [
    {
     "data": {
      "text/plain": [
       "0.006989446427098498"
      ]
     },
     "execution_count": 53,
     "metadata": {},
     "output_type": "execute_result"
    }
   ],
   "source": [
    "#calculating standard deviation of rmse scores\n",
    "scores_std=np.std(list_scores)\n",
    "scores_std"
   ]
  },
  {
   "cell_type": "markdown",
   "id": "611f5665-437a-4575-93f8-81c5d3673e21",
   "metadata": {},
   "source": [
    "##### Answer 5: 0.006"
   ]
  },
  {
   "cell_type": "markdown",
   "id": "62a15dea-1b5c-4b1c-bc57-71472689f3f6",
   "metadata": {},
   "source": [
    "#### Question 6"
   ]
  },
  {
   "cell_type": "code",
   "execution_count": 56,
   "id": "d4b1109a-ac97-498d-8179-f344a11765ad",
   "metadata": {},
   "outputs": [],
   "source": [
    "#shuffling data using random seed = 9 \n",
    "idx= np.arange(n)\n",
    "np.random.seed(9)\n",
    "np.random.shuffle(idx)"
   ]
  },
  {
   "cell_type": "code",
   "execution_count": 57,
   "id": "417d9d79-47ab-437a-a7d4-a490f584d41c",
   "metadata": {},
   "outputs": [],
   "source": [
    "#splitting rows for train, validation and test sets\n",
    "n_val = int(n * 0.2)\n",
    "n_test = int(n * 0.2)\n",
    "n_train = n - n_val - n_test"
   ]
  },
  {
   "cell_type": "code",
   "execution_count": 58,
   "id": "6a1a9d94-38ef-411b-9098-dfbaa096697a",
   "metadata": {},
   "outputs": [],
   "source": [
    "#splitting dataset into train, validation and test sets\n",
    "df_train = df.iloc[idx[:n_train]]\n",
    "df_val = df.iloc[idx[n_train:n_train+n_val]]\n",
    "df_test = df.iloc[idx[n_train+n_val:]]"
   ]
  },
  {
   "cell_type": "code",
   "execution_count": 59,
   "id": "09e20819-f771-4161-82e5-637e0b48a693",
   "metadata": {},
   "outputs": [],
   "source": [
    "#resetting and dropping the index \n",
    "df_train = df_train.reset_index(drop=True)\n",
    "df_val = df_val.reset_index(drop=True)\n",
    "df_test = df_test.reset_index(drop=True)"
   ]
  },
  {
   "cell_type": "code",
   "execution_count": 60,
   "id": "659fc85c-2c1a-4287-a751-8bae7b8c5c2d",
   "metadata": {},
   "outputs": [],
   "source": [
    "#y-values for train, validation and test sets\n",
    "y_train= df_train.fuel_efficiency_mpg.values\n",
    "y_val= df_val.fuel_efficiency_mpg.values\n",
    "y_test= df_test.fuel_efficiency_mpg.values"
   ]
  },
  {
   "cell_type": "code",
   "execution_count": 61,
   "id": "72036f8f-29f2-435e-b640-8aa699bab5bb",
   "metadata": {},
   "outputs": [],
   "source": [
    "#deleting target variable from train, validation and test sets\n",
    "del df_train['fuel_efficiency_mpg']\n",
    "del df_val['fuel_efficiency_mpg']\n",
    "del df_test['fuel_efficiency_mpg']"
   ]
  },
  {
   "cell_type": "code",
   "execution_count": 62,
   "id": "dde9be31-941a-49b2-987b-5fce15e58372",
   "metadata": {},
   "outputs": [
    {
     "data": {
      "text/html": [
       "<div>\n",
       "<style scoped>\n",
       "    .dataframe tbody tr th:only-of-type {\n",
       "        vertical-align: middle;\n",
       "    }\n",
       "\n",
       "    .dataframe tbody tr th {\n",
       "        vertical-align: top;\n",
       "    }\n",
       "\n",
       "    .dataframe thead th {\n",
       "        text-align: right;\n",
       "    }\n",
       "</style>\n",
       "<table border=\"1\" class=\"dataframe\">\n",
       "  <thead>\n",
       "    <tr style=\"text-align: right;\">\n",
       "      <th></th>\n",
       "      <th>engine_displacement</th>\n",
       "      <th>horsepower</th>\n",
       "      <th>vehicle_weight</th>\n",
       "      <th>model_year</th>\n",
       "    </tr>\n",
       "  </thead>\n",
       "  <tbody>\n",
       "    <tr>\n",
       "      <th>0</th>\n",
       "      <td>240</td>\n",
       "      <td>136.0</td>\n",
       "      <td>4050.512290</td>\n",
       "      <td>2006</td>\n",
       "    </tr>\n",
       "    <tr>\n",
       "      <th>1</th>\n",
       "      <td>190</td>\n",
       "      <td>141.0</td>\n",
       "      <td>3195.866942</td>\n",
       "      <td>2017</td>\n",
       "    </tr>\n",
       "    <tr>\n",
       "      <th>2</th>\n",
       "      <td>200</td>\n",
       "      <td>184.0</td>\n",
       "      <td>3006.164370</td>\n",
       "      <td>2017</td>\n",
       "    </tr>\n",
       "    <tr>\n",
       "      <th>3</th>\n",
       "      <td>200</td>\n",
       "      <td>NaN</td>\n",
       "      <td>2947.143980</td>\n",
       "      <td>2022</td>\n",
       "    </tr>\n",
       "    <tr>\n",
       "      <th>4</th>\n",
       "      <td>250</td>\n",
       "      <td>132.0</td>\n",
       "      <td>3114.371978</td>\n",
       "      <td>2001</td>\n",
       "    </tr>\n",
       "  </tbody>\n",
       "</table>\n",
       "</div>"
      ],
      "text/plain": [
       "   engine_displacement  horsepower  vehicle_weight  model_year\n",
       "0                  240       136.0     4050.512290        2006\n",
       "1                  190       141.0     3195.866942        2017\n",
       "2                  200       184.0     3006.164370        2017\n",
       "3                  200         NaN     2947.143980        2022\n",
       "4                  250       132.0     3114.371978        2001"
      ]
     },
     "execution_count": 62,
     "metadata": {},
     "output_type": "execute_result"
    }
   ],
   "source": [
    "#combining train and validation sets into training set\n",
    "df_full_train=pd.concat([df_train, df_val])\n",
    "df_full_train.head()"
   ]
  },
  {
   "cell_type": "code",
   "execution_count": 63,
   "id": "1458aea2-d4e1-4e83-97ee-9486c3d771ed",
   "metadata": {},
   "outputs": [],
   "source": [
    "#resetting and dropping index\n",
    "df_full_train= df_full_train.reset_index(drop=True)"
   ]
  },
  {
   "cell_type": "code",
   "execution_count": 64,
   "id": "542aed06-d778-41aa-a2bc-681bb664710f",
   "metadata": {},
   "outputs": [],
   "source": [
    "#imputing 0 for missing values \n",
    "X_full_train= prepare_X_with_0(df_full_train)"
   ]
  },
  {
   "cell_type": "code",
   "execution_count": 65,
   "id": "b28d4c50-8175-45fc-adf5-6ea7cbf6e561",
   "metadata": {},
   "outputs": [],
   "source": [
    "#combining y-values from train and validation sets into training set\n",
    "y_full_train= np.concatenate([y_train, y_val])"
   ]
  },
  {
   "cell_type": "code",
   "execution_count": 66,
   "id": "c29046bc-3451-423f-ae4c-30b82215a91b",
   "metadata": {},
   "outputs": [],
   "source": [
    "#training the model using linear regression and calculating the weights\n",
    "w0, w= train_linear_regression_reg(X_full_train, y_full_train, r= 0.001)"
   ]
  },
  {
   "cell_type": "code",
   "execution_count": 67,
   "id": "90760686-d5f1-467a-ac34-af154c1fa935",
   "metadata": {},
   "outputs": [
    {
     "data": {
      "text/plain": [
       "0.5156261299189354"
      ]
     },
     "execution_count": 67,
     "metadata": {},
     "output_type": "execute_result"
    }
   ],
   "source": [
    "#imputing 0 for missing values\n",
    "X_test= prepare_X_with_0(df_test)\n",
    "#predicting values for the target varible\n",
    "y_pred= w0 + X_test.dot(w)\n",
    "#calculating root mean squared error score\n",
    "score= rmse(y_test, y_pred)\n",
    "score"
   ]
  },
  {
   "cell_type": "markdown",
   "id": "fe6de566-ff12-4b95-af96-0ecbca16584b",
   "metadata": {},
   "source": [
    "##### Answer 6: 0.515"
   ]
  }
 ],
 "metadata": {
  "kernelspec": {
   "display_name": "Python 3 (ipykernel)",
   "language": "python",
   "name": "python3"
  },
  "language_info": {
   "codemirror_mode": {
    "name": "ipython",
    "version": 3
   },
   "file_extension": ".py",
   "mimetype": "text/x-python",
   "name": "python",
   "nbconvert_exporter": "python",
   "pygments_lexer": "ipython3",
   "version": "3.12.4"
  }
 },
 "nbformat": 4,
 "nbformat_minor": 5
}
