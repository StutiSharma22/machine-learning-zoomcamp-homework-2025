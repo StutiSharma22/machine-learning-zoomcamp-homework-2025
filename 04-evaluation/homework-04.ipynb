{
 "cells": [
  {
   "cell_type": "code",
   "execution_count": 91,
   "id": "70059e8b-9325-4cc8-824d-922b0a80e53b",
   "metadata": {},
   "outputs": [],
   "source": [
    "import pandas as pd\n",
    "import numpy as np\n",
    "import matplotlib.pyplot as plt\n",
    "from sklearn.model_selection import train_test_split\n",
    "from sklearn.linear_model import LogisticRegression\n",
    "from sklearn.metrics import roc_auc_score, accuracy_score, f1_score, precision_score, recall_score\n",
    "from sklearn.feature_extraction import DictVectorizer\n",
    "from sklearn.model_selection import KFold"
   ]
  },
  {
   "cell_type": "code",
   "execution_count": 2,
   "id": "aa7785fc-b552-47fc-b88b-e022d005e6b6",
   "metadata": {
    "scrolled": true
   },
   "outputs": [
    {
     "data": {
      "text/html": [
       "<div>\n",
       "<style scoped>\n",
       "    .dataframe tbody tr th:only-of-type {\n",
       "        vertical-align: middle;\n",
       "    }\n",
       "\n",
       "    .dataframe tbody tr th {\n",
       "        vertical-align: top;\n",
       "    }\n",
       "\n",
       "    .dataframe thead th {\n",
       "        text-align: right;\n",
       "    }\n",
       "</style>\n",
       "<table border=\"1\" class=\"dataframe\">\n",
       "  <thead>\n",
       "    <tr style=\"text-align: right;\">\n",
       "      <th></th>\n",
       "      <th>lead_source</th>\n",
       "      <th>industry</th>\n",
       "      <th>number_of_courses_viewed</th>\n",
       "      <th>annual_income</th>\n",
       "      <th>employment_status</th>\n",
       "      <th>location</th>\n",
       "      <th>interaction_count</th>\n",
       "      <th>lead_score</th>\n",
       "      <th>converted</th>\n",
       "    </tr>\n",
       "  </thead>\n",
       "  <tbody>\n",
       "    <tr>\n",
       "      <th>0</th>\n",
       "      <td>paid_ads</td>\n",
       "      <td>NaN</td>\n",
       "      <td>1</td>\n",
       "      <td>79450.0</td>\n",
       "      <td>unemployed</td>\n",
       "      <td>south_america</td>\n",
       "      <td>4</td>\n",
       "      <td>0.94</td>\n",
       "      <td>1</td>\n",
       "    </tr>\n",
       "    <tr>\n",
       "      <th>1</th>\n",
       "      <td>social_media</td>\n",
       "      <td>retail</td>\n",
       "      <td>1</td>\n",
       "      <td>46992.0</td>\n",
       "      <td>employed</td>\n",
       "      <td>south_america</td>\n",
       "      <td>1</td>\n",
       "      <td>0.80</td>\n",
       "      <td>0</td>\n",
       "    </tr>\n",
       "    <tr>\n",
       "      <th>2</th>\n",
       "      <td>events</td>\n",
       "      <td>healthcare</td>\n",
       "      <td>5</td>\n",
       "      <td>78796.0</td>\n",
       "      <td>unemployed</td>\n",
       "      <td>australia</td>\n",
       "      <td>3</td>\n",
       "      <td>0.69</td>\n",
       "      <td>1</td>\n",
       "    </tr>\n",
       "    <tr>\n",
       "      <th>3</th>\n",
       "      <td>paid_ads</td>\n",
       "      <td>retail</td>\n",
       "      <td>2</td>\n",
       "      <td>83843.0</td>\n",
       "      <td>NaN</td>\n",
       "      <td>australia</td>\n",
       "      <td>1</td>\n",
       "      <td>0.87</td>\n",
       "      <td>0</td>\n",
       "    </tr>\n",
       "    <tr>\n",
       "      <th>4</th>\n",
       "      <td>referral</td>\n",
       "      <td>education</td>\n",
       "      <td>3</td>\n",
       "      <td>85012.0</td>\n",
       "      <td>self_employed</td>\n",
       "      <td>europe</td>\n",
       "      <td>3</td>\n",
       "      <td>0.62</td>\n",
       "      <td>1</td>\n",
       "    </tr>\n",
       "  </tbody>\n",
       "</table>\n",
       "</div>"
      ],
      "text/plain": [
       "    lead_source    industry  number_of_courses_viewed  annual_income  \\\n",
       "0      paid_ads         NaN                         1        79450.0   \n",
       "1  social_media      retail                         1        46992.0   \n",
       "2        events  healthcare                         5        78796.0   \n",
       "3      paid_ads      retail                         2        83843.0   \n",
       "4      referral   education                         3        85012.0   \n",
       "\n",
       "  employment_status       location  interaction_count  lead_score  converted  \n",
       "0        unemployed  south_america                  4        0.94          1  \n",
       "1          employed  south_america                  1        0.80          0  \n",
       "2        unemployed      australia                  3        0.69          1  \n",
       "3               NaN      australia                  1        0.87          0  \n",
       "4     self_employed         europe                  3        0.62          1  "
      ]
     },
     "execution_count": 2,
     "metadata": {},
     "output_type": "execute_result"
    }
   ],
   "source": [
    "df= pd.read_csv('course_lead_scoring2.csv')\n",
    "df.head()"
   ]
  },
  {
   "cell_type": "code",
   "execution_count": 3,
   "id": "18dcc360-ccf3-49fe-9146-f4256a4d945c",
   "metadata": {},
   "outputs": [
    {
     "name": "stdout",
     "output_type": "stream",
     "text": [
      "<class 'pandas.core.frame.DataFrame'>\n",
      "RangeIndex: 1462 entries, 0 to 1461\n",
      "Data columns (total 9 columns):\n",
      " #   Column                    Non-Null Count  Dtype  \n",
      "---  ------                    --------------  -----  \n",
      " 0   lead_source               1334 non-null   object \n",
      " 1   industry                  1328 non-null   object \n",
      " 2   number_of_courses_viewed  1462 non-null   int64  \n",
      " 3   annual_income             1281 non-null   float64\n",
      " 4   employment_status         1362 non-null   object \n",
      " 5   location                  1399 non-null   object \n",
      " 6   interaction_count         1462 non-null   int64  \n",
      " 7   lead_score                1462 non-null   float64\n",
      " 8   converted                 1462 non-null   int64  \n",
      "dtypes: float64(2), int64(3), object(4)\n",
      "memory usage: 102.9+ KB\n"
     ]
    }
   ],
   "source": [
    "df.info()"
   ]
  },
  {
   "cell_type": "markdown",
   "id": "16760832-6185-4212-98c7-ee4dfa69672d",
   "metadata": {},
   "source": [
    "#### Data preparation"
   ]
  },
  {
   "cell_type": "code",
   "execution_count": 5,
   "id": "945fa588-de49-4d7d-9490-99e450597690",
   "metadata": {},
   "outputs": [],
   "source": [
    "categorical= ['lead_source','industry','employment_status', 'location']\n",
    "numerical= ['number_of_courses_viewed', 'annual_income', 'interaction_count', 'lead_score']"
   ]
  },
  {
   "cell_type": "code",
   "execution_count": 6,
   "id": "ff04ffd0-66f2-45a0-b857-f33cf7e5a722",
   "metadata": {},
   "outputs": [],
   "source": [
    "df[categorical]=df[categorical].fillna('NA')\n",
    "df[numerical]=df[numerical].fillna(0.0)"
   ]
  },
  {
   "cell_type": "code",
   "execution_count": 7,
   "id": "19b502b2-e4da-484c-8ef8-3eced58fc59a",
   "metadata": {},
   "outputs": [
    {
     "data": {
      "text/plain": [
       "(1169, 293)"
      ]
     },
     "execution_count": 7,
     "metadata": {},
     "output_type": "execute_result"
    }
   ],
   "source": [
    "df_full_train, df_test= train_test_split(df, test_size= 0.2, random_state=1)\n",
    "len(df_full_train), len(df_test)"
   ]
  },
  {
   "cell_type": "code",
   "execution_count": 8,
   "id": "2eeebd84-de69-4e36-813e-409973200189",
   "metadata": {},
   "outputs": [
    {
     "data": {
      "text/plain": [
       "(876, 293)"
      ]
     },
     "execution_count": 8,
     "metadata": {},
     "output_type": "execute_result"
    }
   ],
   "source": [
    "df_train, df_val= train_test_split(df_full_train, test_size=0.25, random_state=1)\n",
    "len(df_train), len(df_val)"
   ]
  },
  {
   "cell_type": "code",
   "execution_count": 9,
   "id": "87227a98-e895-4a48-b5e6-58ae65b36f85",
   "metadata": {},
   "outputs": [],
   "source": [
    "df_train= df_train.reset_index(drop=True)\n",
    "df_test= df_test.reset_index(drop=True)\n",
    "df_val= df_val.reset_index(drop=True)"
   ]
  },
  {
   "cell_type": "code",
   "execution_count": 10,
   "id": "c7f2b6f0-42fc-49e4-b5b7-f929194daecd",
   "metadata": {},
   "outputs": [],
   "source": [
    "y_train= df_train.converted.values\n",
    "y_test= df_test.converted.values\n",
    "y_val= df_val.converted.values"
   ]
  },
  {
   "cell_type": "code",
   "execution_count": 11,
   "id": "cff3efcc-6174-4ce8-874e-f4621779ea5b",
   "metadata": {},
   "outputs": [],
   "source": [
    "del df_train['converted']\n",
    "del df_test['converted']\n",
    "del df_val['converted']"
   ]
  },
  {
   "cell_type": "markdown",
   "id": "5bd82b5b-01e4-4e1d-8267-79c2cb91f742",
   "metadata": {},
   "source": [
    "#### Question 1: ROC AUC feature importance"
   ]
  },
  {
   "cell_type": "code",
   "execution_count": 13,
   "id": "4c69e3f9-c402-4bff-b8a5-eb0a07a28e10",
   "metadata": {},
   "outputs": [],
   "source": [
    "cols= ['lead_score', 'number_of_courses_viewed', 'interaction_count', 'annual_income']"
   ]
  },
  {
   "cell_type": "code",
   "execution_count": 14,
   "id": "d95ac283-8594-4f37-a4ef-398109a97a4f",
   "metadata": {},
   "outputs": [
    {
     "name": "stdout",
     "output_type": "stream",
     "text": [
      "Feature: lead_score, AUC: 0.6145\n",
      "Feature: number_of_courses_viewed, AUC: 0.7636\n",
      "Feature: interaction_count, AUC: 0.7383\n",
      "Feature: annual_income, AUC: 0.5520\n"
     ]
    }
   ],
   "source": [
    "feature_auc_scores = {}\n",
    "\n",
    "# Calculate ROC AUC for each individual feature\n",
    "for col in cols:\n",
    "    # Use a simple classifier (e.g., Logistic Regression)\n",
    "    model = LogisticRegression()\n",
    "    model.fit(df_train[[col]], y_train)\n",
    "    y_pred_proba = model.predict_proba(df_train[[col]])[:, 1]\n",
    "    auc = roc_auc_score(y_train, y_pred_proba)\n",
    "    feature_auc_scores[col] = auc\n",
    "for feature, auc in feature_auc_scores.items():\n",
    "        print(f\"Feature: {feature}, AUC: {auc:.4f}\")"
   ]
  },
  {
   "cell_type": "markdown",
   "id": "4169b81f-4021-41ee-b2d0-dcde4387c615",
   "metadata": {},
   "source": [
    "Which numerical variable (among the following 4) has the highest AUC?"
   ]
  },
  {
   "cell_type": "code",
   "execution_count": 16,
   "id": "f6d8110e-a386-414b-acfd-1069cbfd924d",
   "metadata": {},
   "outputs": [],
   "source": [
    "#Feature: number_of_courses_viewed, AUC: 0.7636"
   ]
  },
  {
   "cell_type": "code",
   "execution_count": 49,
   "id": "82dad981-eec2-4ee1-a8ce-fc9eefe9b827",
   "metadata": {},
   "outputs": [
    {
     "data": {
      "text/plain": [
       "0.7"
      ]
     },
     "execution_count": 49,
     "metadata": {},
     "output_type": "execute_result"
    }
   ],
   "source": [
    "dicts= df_train[categorical + numerical].to_dict(orient='records')\n",
    "dicts_val= df_val[categorical + numerical].to_dict(orient='records')\n",
    "dv= DictVectorizer(sparse= False)\n",
    "X_train= dv.fit_transform(dicts)\n",
    "model1= LogisticRegression(solver='liblinear', C=1.0, max_iter=1000)\n",
    "model1.fit(X_train, y_train)\n",
    "X_val= dv.fit_transform(dicts_val)\n",
    "y_pred= model1.predict_proba(X_val)[:,1]\n",
    "round(accuracy_score(y_val, y_pred >= 0.5),2)"
   ]
  },
  {
   "cell_type": "markdown",
   "id": "b3fb9c53-5208-4065-8ef2-7fe4d7d1bf24",
   "metadata": {},
   "source": [
    "#### Question 3: Precision and Recall"
   ]
  },
  {
   "cell_type": "code",
   "execution_count": 111,
   "id": "03b63ab9-b8f2-4b6a-9c6e-3419a0998826",
   "metadata": {},
   "outputs": [
    {
     "name": "stderr",
     "output_type": "stream",
     "text": [
      "C:\\Users\\HP\\anaconda3\\Lib\\site-packages\\sklearn\\metrics\\_classification.py:1509: UndefinedMetricWarning: Precision is ill-defined and being set to 0.0 due to no predicted samples. Use `zero_division` parameter to control this behavior.\n",
      "  _warn_prf(average, modifier, f\"{metric.capitalize()} is\", len(result))\n",
      "C:\\Users\\HP\\anaconda3\\Lib\\site-packages\\sklearn\\metrics\\_classification.py:1509: UndefinedMetricWarning: Precision is ill-defined and being set to 0.0 due to no predicted samples. Use `zero_division` parameter to control this behavior.\n",
      "  _warn_prf(average, modifier, f\"{metric.capitalize()} is\", len(result))\n",
      "C:\\Users\\HP\\anaconda3\\Lib\\site-packages\\sklearn\\metrics\\_classification.py:1509: UndefinedMetricWarning: Precision is ill-defined and being set to 0.0 due to no predicted samples. Use `zero_division` parameter to control this behavior.\n",
      "  _warn_prf(average, modifier, f\"{metric.capitalize()} is\", len(result))\n"
     ]
    },
    {
     "data": {
      "image/png": "[encoded data removed]",
      "text/plain": [
       "<Figure size 640x480 with 1 Axes>"
      ]
     },
     "metadata": {},
     "output_type": "display_data"
    }
   ],
   "source": [
    "p=[]\n",
    "r=[]\n",
    "for t in np.arange(0.0, 1.01, 0.01):\n",
    "    precision= precision_score(y_val,y_pred >= t)\n",
    "    p.append(precision)\n",
    "    recall= recall_score(y_val,y_pred >= t)\n",
    "    r.append(recall)\n",
    "plt.plot(p,label='precision' )\n",
    "plt.plot(r,label='recall' )\n",
    "plt.legend()\n",
    "plt.show()"
   ]
  },
  {
   "cell_type": "code",
   "execution_count": 113,
   "id": "01ca8379-fb22-4ea8-bb8b-3793ba48ee1e",
   "metadata": {},
   "outputs": [],
   "source": [
    "#0.745"
   ]
  },
  {
   "cell_type": "markdown",
   "id": "18c9107f-097a-4241-809c-7f5e7dc0d15a",
   "metadata": {},
   "source": [
    "#### Question 4: F1 score"
   ]
  },
  {
   "cell_type": "code",
   "execution_count": 77,
   "id": "3c8f7659-83ea-4b95-a7d3-5ea62d504ba8",
   "metadata": {},
   "outputs": [
    {
     "name": "stdout",
     "output_type": "stream",
     "text": [
      "0.14 0.7370689655172413\n",
      "0.34 0.7450980392156863\n",
      "0.54 0.8060453400503779\n",
      "0.74 0.64\n"
     ]
    }
   ],
   "source": [
    "for t in np.arange(0.0, 1.01, 0.01):\n",
    "    score= f1_score(y_val,y_pred >= t)\n",
    "    if t in [0.14, 0.34, 0.54, 0.74]:\n",
    "        print(t, score)\n",
    "    "
   ]
  },
  {
   "cell_type": "code",
   "execution_count": 79,
   "id": "c8a79a82-15e6-4bfd-ba8b-7cf362ada3ea",
   "metadata": {},
   "outputs": [],
   "source": [
    "#0.54 has maximum f1-score"
   ]
  },
  {
   "cell_type": "markdown",
   "id": "7642fc94-d7c8-4261-8585-adc64f94a422",
   "metadata": {},
   "source": [
    "#### Question 5: 5-Fold CV"
   ]
  },
  {
   "cell_type": "code",
   "execution_count": 123,
   "id": "c5bef421-c915-4855-bbb7-69805295df00",
   "metadata": {},
   "outputs": [],
   "source": [
    "def train(df,y):\n",
    "    dicts= df[categorical + numerical].to_dict(orient= 'records')\n",
    "    dv= DictVectorizer(sparse= False)\n",
    "    X_train= dv.fit_transform(dicts)\n",
    "    model= LogisticRegression(solver='liblinear', C=1.0, max_iter=1000)\n",
    "    model.fit(X_train, y_train)\n",
    "    return dv, model"
   ]
  },
  {
   "cell_type": "code",
   "execution_count": 131,
   "id": "8e13755a-7f1e-4c5b-9e21-133c2570da91",
   "metadata": {},
   "outputs": [],
   "source": [
    "def predict(df, dv, model):\n",
    "    dicts= df[categorical + numerical].to_dict(orient= 'records')\n",
    "    X= dv.transform(dicts)\n",
    "    y_pred= model.predict_proba(X)[:,1]\n",
    "    return y_pred"
   ]
  },
  {
   "cell_type": "code",
   "execution_count": 83,
   "id": "dc80d9c0-4675-40b0-a3d0-0a246d275740",
   "metadata": {},
   "outputs": [],
   "source": [
    "kfold= KFold(n_splits=5, shuffle=True, random_state=1)"
   ]
  },
  {
   "cell_type": "code",
   "execution_count": 135,
   "id": "d10b1c88-b3bc-4cd4-9add-b8f533be0fe1",
   "metadata": {},
   "outputs": [],
   "source": [
    "scores=[]\n",
    "for train_idx, val_idx in kfold.split(df_full_train):\n",
    "    df_train= df_full_train.iloc[train_idx]\n",
    "    df_val= df_full_train.iloc[val_idx]\n",
    "    y_train= df_train.converted.values\n",
    "    y_val= df_val.converted.values\n",
    "    dv,model= train(df_train, y_train)\n",
    "    y_pred= predict(df_val,dv, model)\n",
    "    auc= roc_auc_score(y_val,y_pred)\n",
    "    scores.append(auc)\n",
    "    \n"
   ]
  },
  {
   "cell_type": "code",
   "execution_count": 145,
   "id": "eb88faa2-ae19-4c4e-af3a-df26e2aea9a5",
   "metadata": {},
   "outputs": [
    {
     "data": {
      "text/plain": [
       "0.03580711942905165"
      ]
     },
     "execution_count": 145,
     "metadata": {},
     "output_type": "execute_result"
    }
   ],
   "source": [
    "np.std(scores)"
   ]
  },
  {
   "cell_type": "markdown",
   "id": "30d044bf-0e09-44c6-828e-2f27ecbfee37",
   "metadata": {},
   "source": [
    "#### Question 6: Hyperparameter Tuning"
   ]
  },
  {
   "cell_type": "code",
   "execution_count": 148,
   "id": "063b25c4-d489-4586-a685-1e2dc4ee953b",
   "metadata": {},
   "outputs": [],
   "source": [
    "def train(df,y, C=1.0):\n",
    "    dicts= df[categorical + numerical].to_dict(orient= 'records')\n",
    "    dv= DictVectorizer(sparse= False)\n",
    "    X_train= dv.fit_transform(dicts)\n",
    "    model= LogisticRegression(solver='liblinear', C=C, max_iter=1000)\n",
    "    model.fit(X_train, y_train)\n",
    "    return dv, model"
   ]
  },
  {
   "cell_type": "code",
   "execution_count": 160,
   "id": "5ef3f975-d27e-485e-8855-fdf0fcce2478",
   "metadata": {},
   "outputs": [
    {
     "name": "stdout",
     "output_type": "stream",
     "text": [
      "1e-06 0.56\n",
      "0.001 0.867\n",
      "1 0.822\n"
     ]
    }
   ],
   "source": [
    "c= [0.000001, 0.001, 1]\n",
    "for v in c:\n",
    "    scores=[]\n",
    "    for train_idx, val_idx in kfold.split(df_full_train):\n",
    "        df_train= df_full_train.iloc[train_idx]\n",
    "        df_val= df_full_train.iloc[val_idx]\n",
    "        y_train= df_train.converted.values\n",
    "        y_val= df_val.converted.values\n",
    "        dv,model= train(df_train, y_train, C=v)\n",
    "        y_pred= predict(df_val,dv, model)\n",
    "        auc= roc_auc_score(y_val,y_pred)\n",
    "        scores.append(auc)\n",
    "    print(v, round(np.mean(scores),3))\n"
   ]
  },
  {
   "cell_type": "code",
   "execution_count": 158,
   "id": "07650b9c-42f6-4ad7-b878-e5adc7267691",
   "metadata": {},
   "outputs": [],
   "source": [
    "#C= 0.001"
   ]
  }
 ],
 "metadata": {
  "kernelspec": {
   "display_name": "Python 3 (ipykernel)",
   "language": "python",
   "name": "python3"
  },
  "language_info": {
   "codemirror_mode": {
    "name": "ipython",
    "version": 3
   },
   "file_extension": ".py",
   "mimetype": "text/x-python",
   "name": "python",
   "nbconvert_exporter": "python",
   "pygments_lexer": "ipython3",
   "version": "3.12.4"
  }
 },
 "nbformat": 4,
 "nbformat_minor": 5
}
